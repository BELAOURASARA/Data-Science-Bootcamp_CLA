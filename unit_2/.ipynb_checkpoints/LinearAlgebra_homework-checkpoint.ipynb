{
 "cells": [
  {
   "cell_type": "raw",
   "id": "c1fedbde",
   "metadata": {},
   "source": [
    "You are given a colored image, read the image and apply the following operations to it:\n",
    "\n",
    "-Transpose.\n",
    "\n",
    "-Check if the matrix is one or many of the special types we have seen (diagonal, triagonal...).\n",
    "\n",
    "-Choose a column vector and calculate both norms that we’ve seen. \n"
   ]
  },
  {
   "cell_type": "code",
   "execution_count": 109,
   "id": "f2494ad9",
   "metadata": {},
   "outputs": [],
   "source": [
    "import numpy as np\n",
    "\n",
    "\n",
    "#x = [[[1.0, 2.0, 3.0],[4.0, 5.0, 6.0]],[[7.0, 8.0, 9.0],[10.0, 11.0, 12.0]]]\n",
    "x= [\n",
    "    [1,7,2],\n",
    "    [7,4,5],\n",
    "    [2,5,3]\n",
    "]\n",
    "mat=np.array(x)\n"
   ]
  },
  {
   "cell_type": "code",
   "execution_count": 110,
   "id": "5e6cca62",
   "metadata": {},
   "outputs": [
    {
     "data": {
      "text/plain": [
       "array([[1, 7, 2],\n",
       "       [7, 4, 5],\n",
       "       [2, 5, 3]])"
      ]
     },
     "execution_count": 110,
     "metadata": {},
     "output_type": "execute_result"
    }
   ],
   "source": [
    "#transposing the image\n",
    "mat.T\n"
   ]
  },
  {
   "cell_type": "code",
   "execution_count": 111,
   "id": "2fbcd910",
   "metadata": {},
   "outputs": [
    {
     "name": "stdout",
     "output_type": "stream",
     "text": [
      "the matrix is not diagonal\n",
      "the matrix is not diagonal\n"
     ]
    }
   ],
   "source": [
    "#check if the matrix is diagonal\n",
    "rows=len(mat[0])\n",
    "colomns=len(mat)\n",
    "if rows==colomns : #check first if it is a square matrix\n",
    "    \n",
    "    n=np.count_nonzero(mat - np.diag(np.diagonal(mat)))\n",
    "    if n==0 : print(\"the matrix is diagonal\")\n",
    "    else : print(\"the matrix is not diagonal\")\n",
    "    #or we can use directly : \n",
    "    if (np.allclose(mat, np.diag(np.diag(mat)))):print(\"the matrix is diagonal\")\n",
    "    else : print(\"the matrix is not diagonal\") \n",
    "        \n",
    "else: print(\"the matrix is not a square matrix , so we can't check if it is diagonal\")\n",
    "\n"
   ]
  },
  {
   "cell_type": "code",
   "execution_count": 112,
   "id": "17b56bc8",
   "metadata": {},
   "outputs": [
    {
     "name": "stdout",
     "output_type": "stream",
     "text": [
      "the matrix is not triagonal\n"
     ]
    }
   ],
   "source": [
    "#check if the matrix is triagonal\n",
    "rows=len(mat[0])\n",
    "colomns=len(mat)\n",
    "if rows==colomns : #check first if it is a square matrix\n",
    "    \n",
    "    if (np.allclose(mat, np.tril(mat))and(not np.allclose(mat, np.triu(mat)))):print(\"the matrix is lower triagonal\")\n",
    "    else: \n",
    "        if  (np.allclose(mat, np.triu(mat))and(not np.allclose(mat, np.tril(mat)))) : print(\"the matrix is upper triagonal\")\n",
    "        else:   print(\"the matrix is not triagonal\")\n",
    "        \n",
    "else: print(\"the matrix is not a square matrix , so we can't check if it is triagonal\")"
   ]
  },
  {
   "cell_type": "code",
   "execution_count": 113,
   "id": "756b0409",
   "metadata": {},
   "outputs": [
    {
     "name": "stdout",
     "output_type": "stream",
     "text": [
      "the matrix is symmetric\n"
     ]
    }
   ],
   "source": [
    "#check if the matrix is symmetric\n",
    "if (mat==mat.T).all(): print(\"the matrix is symmetric\")\n",
    "else: print(\"the matrix is not symmetric\")"
   ]
  },
  {
   "cell_type": "code",
   "execution_count": 107,
   "id": "515c03bf",
   "metadata": {},
   "outputs": [
    {
     "name": "stdout",
     "output_type": "stream",
     "text": [
      "1-Norm of the first vector of the matrix is : 10.0\n"
     ]
    }
   ],
   "source": [
    "#norm1\n",
    "print(\"1-Norm of the first vector of the matrix is :\",np.linalg.norm(x[0],1))\n"
   ]
  },
  {
   "cell_type": "code",
   "execution_count": 108,
   "id": "a83bb9af",
   "metadata": {},
   "outputs": [
    {
     "name": "stdout",
     "output_type": "stream",
     "text": [
      "2-Norm of the first vector of the matrix is : 7.3484692283495345\n"
     ]
    }
   ],
   "source": [
    "#norm2\n",
    "print(\"2-Norm of the first vector of the matrix is :\",np.linalg.norm(x[0],2))"
   ]
  },
  {
   "cell_type": "code",
   "execution_count": null,
   "id": "543e3f02",
   "metadata": {},
   "outputs": [],
   "source": []
  }
 ],
 "metadata": {
  "kernelspec": {
   "display_name": "Python 3",
   "language": "python",
   "name": "python3"
  },
  "language_info": {
   "codemirror_mode": {
    "name": "ipython",
    "version": 3
   },
   "file_extension": ".py",
   "mimetype": "text/x-python",
   "name": "python",
   "nbconvert_exporter": "python",
   "pygments_lexer": "ipython3",
   "version": "3.8.8"
  }
 },
 "nbformat": 4,
 "nbformat_minor": 5
}
